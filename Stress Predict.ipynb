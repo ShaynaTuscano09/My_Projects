{
 "cells": [
  {
   "cell_type": "markdown",
   "id": "a4f8be1a",
   "metadata": {},
   "source": [
    "\n",
    "Name: Shayna Nicholas Tuscano <br>\n"
   ]
  },
  {
   "cell_type": "code",
   "execution_count": null,
   "id": "94b38cb0",
   "metadata": {},
   "outputs": [],
   "source": [
    "import pandas as pd"
   ]
  },
  {
   "cell_type": "code",
   "execution_count": null,
   "id": "fbcaaf59",
   "metadata": {},
   "outputs": [],
   "source": [
    "import matplotlib.pyplot as plt "
   ]
  },
  {
   "cell_type": "code",
   "execution_count": null,
   "id": "8e70dd9f",
   "metadata": {},
   "outputs": [],
   "source": [
    "#importing dataset\n",
    "dataset = pd.read_csv('Improved_All_Combined_hr_rsp_binary.csv')  "
   ]
  },
  {
   "cell_type": "markdown",
   "id": "68f5f2af",
   "metadata": {},
   "source": [
    "Understanding the Dataset :"
   ]
  },
  {
   "cell_type": "code",
   "execution_count": null,
   "id": "1add7d45",
   "metadata": {},
   "outputs": [],
   "source": [
    "dataset.shape # rows = 112516 column = 5"
   ]
  },
  {
   "cell_type": "code",
   "execution_count": null,
   "id": "78013dd5",
   "metadata": {},
   "outputs": [],
   "source": [
    "dataset.sample(6)  #Taking random samples from dataset "
   ]
  },
  {
   "cell_type": "markdown",
   "id": "dddd75ce",
   "metadata": {},
   "source": [
    "Data Exploration :"
   ]
  },
  {
   "cell_type": "code",
   "execution_count": null,
   "id": "75003b97",
   "metadata": {},
   "outputs": [],
   "source": [
    "# To check if the data is imbalanced\n",
    "dataset['Label'].value_counts().plot(kind='pie', autopct='%1.1f%%')"
   ]
  },
  {
   "cell_type": "markdown",
   "id": "687507e7",
   "metadata": {},
   "source": [
    "Data Preprocessing "
   ]
  },
  {
   "cell_type": "code",
   "execution_count": null,
   "id": "4a6eaa1b",
   "metadata": {},
   "outputs": [],
   "source": [
    "#Identify and remove duplicate data \n",
    "dataset.duplicated().sum()"
   ]
  },
  {
   "cell_type": "code",
   "execution_count": null,
   "id": "a773ec3d",
   "metadata": {},
   "outputs": [],
   "source": [
    "#Handeling missing values\n",
    "dataset.isnull().sum()"
   ]
  },
  {
   "cell_type": "code",
   "execution_count": null,
   "id": "2d513294",
   "metadata": {},
   "outputs": [],
   "source": [
    "#handel missing values by replacing it with mean \n",
    "n = dataset.isnull().any(axis=1)\n",
    "i = n[n].index\n",
    "i                    #index of missing values"
   ]
  },
  {
   "cell_type": "code",
   "execution_count": null,
   "id": "1c5ca065",
   "metadata": {},
   "outputs": [],
   "source": [
    "#mean of the HR column of entire dataset  to replace missing values in train and test\n",
    "m = dataset['HR'].mean()\n",
    "m                          "
   ]
  },
  {
   "cell_type": "code",
   "execution_count": null,
   "id": "5ff0402c",
   "metadata": {},
   "outputs": [],
   "source": [
    "#Replace the missing values in  dataset \n",
    "dataset =dataset.fillna(m)\n",
    "#Verify that the missing values have been replaced \n",
    "dataset.isnull().sum()"
   ]
  },
  {
   "cell_type": "code",
   "execution_count": null,
   "id": "5f491fa3",
   "metadata": {},
   "outputs": [],
   "source": [
    "#Feature selection by finding the correlation with Label\n",
    "c1 = dataset.corr()\n",
    "c1['Label']"
   ]
  },
  {
   "cell_type": "code",
   "execution_count": null,
   "id": "1aaa7234",
   "metadata": {},
   "outputs": [],
   "source": [
    "#Removing unwanted columns like Participant and Time(sec)  from dataset \n",
    "dataset =dataset.drop([\"Participant\",\"Time(sec)\"],axis = 1)"
   ]
  },
  {
   "cell_type": "code",
   "execution_count": null,
   "id": "babbfdaa",
   "metadata": {},
   "outputs": [],
   "source": [
    "dataset.head(2)"
   ]
  },
  {
   "cell_type": "code",
   "execution_count": null,
   "id": "52937c34",
   "metadata": {},
   "outputs": [],
   "source": [
    "#seperating Features and labels\n",
    "X = dataset.drop('Label',axis = 1)\n",
    "y = dataset.iloc[:,[-1]] "
   ]
  },
  {
   "cell_type": "code",
   "execution_count": null,
   "id": "c53f0ce3",
   "metadata": {},
   "outputs": [],
   "source": [
    "#importing Library for train test split \n",
    "from sklearn.model_selection import train_test_split\n",
    "#spliting the data into Training data (80%) and Test data (20%)\n",
    "X_train,X_test,y_train,y_test =train_test_split(X,y,test_size = 0.20,random_state = 20)"
   ]
  },
  {
   "cell_type": "markdown",
   "id": "ac00c090",
   "metadata": {},
   "source": [
    "Algorithm Selection and Application :¶\n",
    "<br>\n",
    "1) Decision tree"
   ]
  },
  {
   "cell_type": "code",
   "execution_count": null,
   "id": "c41dc936",
   "metadata": {},
   "outputs": [],
   "source": [
    "#importing the decision tree classifier \n",
    "from sklearn.tree import DecisionTreeClassifier"
   ]
  },
  {
   "cell_type": "code",
   "execution_count": null,
   "id": "2506fb71",
   "metadata": {},
   "outputs": [],
   "source": [
    "import time"
   ]
  },
  {
   "cell_type": "code",
   "execution_count": 19,
   "id": "773caa8f",
   "metadata": {},
   "outputs": [],
   "source": [
    "DT = DecisionTreeClassifier()\n",
    "start = time.time()\n",
    "DT.fit(X_train,y_train)\n",
    "end = time.time()"
   ]
  },
  {
   "cell_type": "code",
   "execution_count": 20,
   "id": "e39c41dc",
   "metadata": {},
   "outputs": [
    {
     "data": {
      "text/plain": [
       "0.31110405921936035"
      ]
     },
     "execution_count": 20,
     "metadata": {},
     "output_type": "execute_result"
    }
   ],
   "source": [
    "#tain time in sec\n",
    "train_time = end-start\n",
    "train_time"
   ]
  },
  {
   "cell_type": "code",
   "execution_count": 21,
   "id": "ce39d3d8",
   "metadata": {},
   "outputs": [],
   "source": [
    "pstart = time.time()\n",
    "y_predict = DT.predict(X_test)\n",
    "pend = time.time()"
   ]
  },
  {
   "cell_type": "code",
   "execution_count": 22,
   "id": "ed8feb6f",
   "metadata": {},
   "outputs": [
    {
     "data": {
      "text/plain": [
       "0.00648188591003418"
      ]
     },
     "execution_count": 22,
     "metadata": {},
     "output_type": "execute_result"
    }
   ],
   "source": [
    "#Prediction time \n",
    "pred_time = pend-pstart\n",
    "pred_time"
   ]
  },
  {
   "cell_type": "code",
   "execution_count": 23,
   "id": "3eb93110",
   "metadata": {},
   "outputs": [
    {
     "data": {
      "text/plain": [
       "array([0, 1, 0, ..., 0, 1, 0])"
      ]
     },
     "execution_count": 23,
     "metadata": {},
     "output_type": "execute_result"
    }
   ],
   "source": [
    "y_predict"
   ]
  },
  {
   "cell_type": "markdown",
   "id": "c09b9cb6",
   "metadata": {},
   "source": [
    "    "
   ]
  },
  {
   "cell_type": "code",
   "execution_count": 24,
   "id": "5597cf0f",
   "metadata": {},
   "outputs": [],
   "source": [
    "#performance metrics \n",
    "from sklearn.metrics import classification_report,accuracy_score,confusion_matrix"
   ]
  },
  {
   "cell_type": "code",
   "execution_count": 25,
   "id": "47edb1cd",
   "metadata": {},
   "outputs": [
    {
     "name": "stdout",
     "output_type": "stream",
     "text": [
      "              precision    recall  f1-score   support\n",
      "\n",
      "           0       0.79      0.78      0.79     15226\n",
      "           1       0.55      0.57      0.56      7278\n",
      "\n",
      "    accuracy                           0.71     22504\n",
      "   macro avg       0.67      0.68      0.67     22504\n",
      "weighted avg       0.71      0.71      0.71     22504\n",
      "\n"
     ]
    }
   ],
   "source": [
    "dt_performance =classification_report(y_test,y_predict)\n",
    "print(dt_performance) #Decision Tree performance"
   ]
  },
  {
   "cell_type": "code",
   "execution_count": 26,
   "id": "a419ab26",
   "metadata": {},
   "outputs": [
    {
     "data": {
      "text/plain": [
       "56.95245946688651"
      ]
     },
     "execution_count": 26,
     "metadata": {},
     "output_type": "execute_result"
    }
   ],
   "source": [
    "from sklearn.metrics import recall_score,accuracy_score\n",
    "DT_recall =recall_score(y_test,y_predict)*100 # to. convert in percentage \n",
    "DT_recall"
   ]
  },
  {
   "cell_type": "code",
   "execution_count": 27,
   "id": "a15e28bc",
   "metadata": {},
   "outputs": [
    {
     "data": {
      "text/plain": [
       "71.24066832563099"
      ]
     },
     "execution_count": 27,
     "metadata": {},
     "output_type": "execute_result"
    }
   ],
   "source": [
    "DT_accuracy =accuracy_score(y_test,y_predict)*100\n",
    "DT_accuracy"
   ]
  },
  {
   "cell_type": "code",
   "execution_count": 28,
   "id": "fdcb1b85",
   "metadata": {},
   "outputs": [
    {
     "name": "stdout",
     "output_type": "stream",
     "text": [
      "11887 3339 3133 4145\n"
     ]
    }
   ],
   "source": [
    "#confusion matrix\n",
    "DT_cm =confusion_matrix(y_test,y_predict,labels=[0,1])\n",
    "DT_cm\n",
    "tn, fp, fn, tp = DT_cm.ravel()\n",
    "print(tn, fp, fn, tp )"
   ]
  },
  {
   "cell_type": "code",
   "execution_count": 29,
   "id": "d9ae75f4",
   "metadata": {},
   "outputs": [
    {
     "data": {
      "text/plain": [
       "Text(0.5, 1.0, 'Confusion matrix for decision tree')"
      ]
     },
     "execution_count": 29,
     "metadata": {},
     "output_type": "execute_result"
    },
    {
     "data": {
      "image/png": "[encoded data removed]",
      "text/plain": [
       "<Figure size 640x480 with 2 Axes>"
      ]
     },
     "metadata": {},
     "output_type": "display_data"
    }
   ],
   "source": [
    "import seaborn as sns\n",
    "sns.heatmap(DT_cm,annot=True,fmt='d')\n",
    "plt.xlabel(\"Predicted\")\n",
    "plt.ylabel(\"Actual\")\n",
    "plt.title('Confusion matrix for decision tree')"
   ]
  },
  {
   "cell_type": "markdown",
   "id": "a881ba18",
   "metadata": {},
   "source": [
    "2. Random Forest "
   ]
  },
  {
   "cell_type": "code",
   "execution_count": 30,
   "id": "44b496d5",
   "metadata": {},
   "outputs": [],
   "source": [
    "#importing the Random Forest classifier \n",
    "from sklearn.ensemble import RandomForestClassifier"
   ]
  },
  {
   "cell_type": "code",
   "execution_count": 31,
   "id": "801134d8",
   "metadata": {},
   "outputs": [],
   "source": [
    "RF = RandomForestClassifier()\n",
    "y_train1=y_train.values.ravel() # convert y_train dataframe into array because 1D array is expected  in .fit()\n",
    "start1 = time.time()\n",
    "RF.fit(X_train,y_train1)\n",
    "end1 = time.time()\n"
   ]
  },
  {
   "cell_type": "code",
   "execution_count": 32,
   "id": "c2515957",
   "metadata": {},
   "outputs": [
    {
     "data": {
      "text/plain": [
       "11.515777826309204"
      ]
     },
     "execution_count": 32,
     "metadata": {},
     "output_type": "execute_result"
    }
   ],
   "source": [
    "train_time1 = end1-start1  #training time for random forest \n",
    "train_time1"
   ]
  },
  {
   "cell_type": "code",
   "execution_count": 33,
   "id": "bed2dd8c",
   "metadata": {},
   "outputs": [],
   "source": [
    "pstart1 = time.time()\n",
    "y_predict1 = RF.predict(X_test)\n",
    "pend1 = time.time()"
   ]
  },
  {
   "cell_type": "code",
   "execution_count": 34,
   "id": "51f6f830",
   "metadata": {
    "scrolled": true
   },
   "outputs": [
    {
     "data": {
      "text/plain": [
       "0.5919947624206543"
      ]
     },
     "execution_count": 34,
     "metadata": {},
     "output_type": "execute_result"
    }
   ],
   "source": [
    "#Prediction time \n",
    "pred_time1 = pend1-pstart1\n",
    "pred_time1"
   ]
  },
  {
   "cell_type": "code",
   "execution_count": 35,
   "id": "6277dd8a",
   "metadata": {},
   "outputs": [
    {
     "data": {
      "text/plain": [
       "array([0, 1, 0, ..., 0, 1, 0])"
      ]
     },
     "execution_count": 35,
     "metadata": {},
     "output_type": "execute_result"
    }
   ],
   "source": [
    "y_predict1 "
   ]
  },
  {
   "cell_type": "code",
   "execution_count": 36,
   "id": "ae073262",
   "metadata": {},
   "outputs": [
    {
     "name": "stdout",
     "output_type": "stream",
     "text": [
      "              precision    recall  f1-score   support\n",
      "\n",
      "           0       0.79      0.85      0.82     15226\n",
      "           1       0.62      0.52      0.57      7278\n",
      "\n",
      "    accuracy                           0.74     22504\n",
      "   macro avg       0.71      0.68      0.69     22504\n",
      "weighted avg       0.73      0.74      0.74     22504\n",
      "\n"
     ]
    }
   ],
   "source": [
    "rf_performance =classification_report(y_test,y_predict1)\n",
    "print(rf_performance) # Random Forest performance "
   ]
  },
  {
   "cell_type": "code",
   "execution_count": 37,
   "id": "27862e16",
   "metadata": {},
   "outputs": [],
   "source": [
    "RF_recall =recall_score(y_test,y_predict1)*100 #to. convert in percentage "
   ]
  },
  {
   "cell_type": "code",
   "execution_count": 38,
   "id": "4b109ff9",
   "metadata": {},
   "outputs": [
    {
     "data": {
      "text/plain": [
       "74.2979025950942"
      ]
     },
     "execution_count": 38,
     "metadata": {},
     "output_type": "execute_result"
    }
   ],
   "source": [
    "RF_accuracy =accuracy_score(y_test,y_predict1)*100\n",
    "RF_accuracy"
   ]
  },
  {
   "cell_type": "code",
   "execution_count": 39,
   "id": "5cb9eae8",
   "metadata": {},
   "outputs": [
    {
     "data": {
      "text/plain": [
       "51.978565539983514"
      ]
     },
     "execution_count": 39,
     "metadata": {},
     "output_type": "execute_result"
    }
   ],
   "source": [
    "RF_recall"
   ]
  },
  {
   "cell_type": "code",
   "execution_count": 40,
   "id": "5030d572",
   "metadata": {},
   "outputs": [
    {
     "name": "stdout",
     "output_type": "stream",
     "text": [
      "12937 2289 3495 3783\n"
     ]
    }
   ],
   "source": [
    "RF_cm =confusion_matrix(y_test,y_predict1,labels=[0,1])\n",
    "\n",
    "tn, fp, fn, tp = RF_cm.ravel()\n",
    "print(tn, fp, fn, tp )"
   ]
  },
  {
   "cell_type": "code",
   "execution_count": 41,
   "id": "554c5a3e",
   "metadata": {},
   "outputs": [
    {
     "data": {
      "text/plain": [
       "Text(0.5, 1.0, 'Confusion matrix for Random Forest')"
      ]
     },
     "execution_count": 41,
     "metadata": {},
     "output_type": "execute_result"
    },
    {
     "data": {
      "image/png": "[encoded data removed]",
      "text/plain": [
       "<Figure size 640x480 with 2 Axes>"
      ]
     },
     "metadata": {},
     "output_type": "display_data"
    }
   ],
   "source": [
    "sns.heatmap(RF_cm,annot=True,fmt='d')\n",
    "plt.xlabel(\"Predicted\")\n",
    "plt.ylabel(\"Actual\")\n",
    "plt.title('Confusion matrix for Random Forest')"
   ]
  },
  {
   "cell_type": "code",
   "execution_count": 42,
   "id": "d112d9d0",
   "metadata": {},
   "outputs": [
    {
     "data": {
      "text/plain": [
       "Text(0.5, 1.0, 'Evaluation of model based on appropriate performance metric')"
      ]
     },
     "execution_count": 42,
     "metadata": {},
     "output_type": "execute_result"
    },
    {
     "data": {
      "image/png": "[encoded data removed]",
      "text/plain": [
       "<Figure size 640x480 with 1 Axes>"
      ]
     },
     "metadata": {},
     "output_type": "display_data"
    }
   ],
   "source": [
    "values=[DT_recall,RF_recall]\n",
    "names = ['Decision tree','Random forest']\n",
    "barplot = plt.bar(names, values)\n",
    "plt.bar_label(barplot,values,label_type='center')\n",
    "plt.xlabel('Classification Algorithms')\n",
    "plt.ylabel('Recall in %')\n",
    "plt.title('Evaluation of model based on appropriate performance metric')"
   ]
  },
  {
   "cell_type": "code",
   "execution_count": null,
   "id": "56072d7d",
   "metadata": {},
   "outputs": [],
   "source": []
  }
 ],
 "metadata": {
  "kernelspec": {
   "display_name": "Python 3 (ipykernel)",
   "language": "python",
   "name": "python3"
  },
  "language_info": {
   "codemirror_mode": {
    "name": "ipython",
    "version": 3
   },
   "file_extension": ".py",
   "mimetype": "text/x-python",
   "name": "python",
   "nbconvert_exporter": "python",
   "pygments_lexer": "ipython3",
   "version": "3.11.3"
  }
 },
 "nbformat": 4,
 "nbformat_minor": 5
}
